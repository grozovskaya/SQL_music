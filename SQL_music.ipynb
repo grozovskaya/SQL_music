{
 "cells": [
  {
   "cell_type": "markdown",
   "metadata": {},
   "source": [
    "Критерии оценки проекта (SQL)\n",
    "\n",
    "1. CRUD (Create, Read, Update, Delete)\n",
    "2. Where с объединением трёх таблиц в where\n",
    "3. Вложенный select\n",
    "4. Join\n",
    "5. Агрегация\n",
    "6. Триггеры, процедуры\n",
    "7. Красивая структура бд\n",
    "8. Связанное решение в серверной sql-базе данных\n",
    "9. Скрипт с запросами\n",
    "10. Docker"
   ]
  },
  {
   "cell_type": "markdown",
   "metadata": {
    "id": "MHzZrY993R-i"
   },
   "source": [
    "## 1. Данные"
   ]
  },
  {
   "cell_type": "code",
   "execution_count": 1,
   "metadata": {
    "colab": {
     "base_uri": "https://localhost:8080/"
    },
    "id": "LOGEOzoN0uTd",
    "outputId": "7a367f02-cccc-4a00-a40d-e55c70d167b0"
   },
   "outputs": [
    {
     "name": "stdout",
     "output_type": "stream",
     "text": [
      "Requirement already up-to-date: opendatasets in c:\\users\\sara7\\anaconda3\\lib\\site-packages (0.1.22)\n",
      "Requirement already satisfied, skipping upgrade: kaggle in c:\\users\\sara7\\anaconda3\\lib\\site-packages (from opendatasets) (1.5.13)\n",
      "Requirement already satisfied, skipping upgrade: click in c:\\users\\sara7\\anaconda3\\lib\\site-packages (from opendatasets) (7.0)\n",
      "Requirement already satisfied, skipping upgrade: tqdm in c:\\users\\sara7\\anaconda3\\lib\\site-packages (from opendatasets) (4.65.0)\n",
      "Requirement already satisfied, skipping upgrade: python-slugify in c:\\users\\sara7\\anaconda3\\lib\\site-packages (from kaggle->opendatasets) (8.0.1)\n",
      "Requirement already satisfied, skipping upgrade: python-dateutil in c:\\users\\sara7\\anaconda3\\lib\\site-packages (from kaggle->opendatasets) (2.8.0)\n",
      "Requirement already satisfied, skipping upgrade: six>=1.10 in c:\\users\\sara7\\anaconda3\\lib\\site-packages (from kaggle->opendatasets) (1.12.0)\n",
      "Requirement already satisfied, skipping upgrade: certifi in c:\\users\\sara7\\anaconda3\\lib\\site-packages (from kaggle->opendatasets) (2019.6.16)\n",
      "Requirement already satisfied, skipping upgrade: requests in c:\\users\\sara7\\anaconda3\\lib\\site-packages (from kaggle->opendatasets) (2.22.0)\n",
      "Requirement already satisfied, skipping upgrade: urllib3 in c:\\users\\sara7\\anaconda3\\lib\\site-packages (from kaggle->opendatasets) (1.25.11)\n",
      "Requirement already satisfied, skipping upgrade: colorama; platform_system == \"Windows\" in c:\\users\\sara7\\anaconda3\\lib\\site-packages (from tqdm->opendatasets) (0.4.1)\n",
      "Requirement already satisfied, skipping upgrade: text-unidecode>=1.3 in c:\\users\\sara7\\anaconda3\\lib\\site-packages (from python-slugify->kaggle->opendatasets) (1.3)\n",
      "Requirement already satisfied, skipping upgrade: chardet<3.1.0,>=3.0.2 in c:\\users\\sara7\\anaconda3\\lib\\site-packages (from requests->kaggle->opendatasets) (3.0.4)\n",
      "Requirement already satisfied, skipping upgrade: idna<2.9,>=2.5 in c:\\users\\sara7\\anaconda3\\lib\\site-packages (from requests->kaggle->opendatasets) (2.8)\n",
      "Skipping, found downloaded files in \".\\top-hits-spotify-from-20002019\" (use force=True to force download)\n"
     ]
    }
   ],
   "source": [
    "! pip install opendatasets --upgrade\n",
    "import opendatasets as od\n",
    "\n",
    "# {\"username\":\"****\",\"key\":\"****\"}\n",
    "\n",
    "od.download('https://www.kaggle.com/datasets/paradisejoy/top-hits-spotify-from-20002019')"
   ]
  },
  {
   "cell_type": "code",
   "execution_count": 2,
   "metadata": {
    "id": "TbIkkMDs6OYs"
   },
   "outputs": [],
   "source": [
    "import pandas as pd"
   ]
  },
  {
   "cell_type": "markdown",
   "metadata": {
    "id": "_oWr9aXq3eBJ"
   },
   "source": [
    "[Top Hits Spotify from 2000-2019\n",
    "](https://www.kaggle.com/datasets/paradisejoy/top-hits-spotify-from-20002019)\n",
    "\n",
    "Датасет содержит 2000 лучших треков на Spotify с 2000 по 2019 год. Данные содержат около 18 различных параметров, такие как популярность, танцевальность, энергичность, громкость и т.д."
   ]
  },
  {
   "cell_type": "code",
   "execution_count": 3,
   "metadata": {
    "colab": {
     "base_uri": "https://localhost:8080/",
     "height": 371
    },
    "id": "NtN_1zIy3aEA",
    "outputId": "254cacf4-df66-4a46-cf79-23b4bc7da4dc",
    "scrolled": false
   },
   "outputs": [
    {
     "data": {
      "text/html": [
       "<div>\n",
       "<style scoped>\n",
       "    .dataframe tbody tr th:only-of-type {\n",
       "        vertical-align: middle;\n",
       "    }\n",
       "\n",
       "    .dataframe tbody tr th {\n",
       "        vertical-align: top;\n",
       "    }\n",
       "\n",
       "    .dataframe thead th {\n",
       "        text-align: right;\n",
       "    }\n",
       "</style>\n",
       "<table border=\"1\" class=\"dataframe\">\n",
       "  <thead>\n",
       "    <tr style=\"text-align: right;\">\n",
       "      <th></th>\n",
       "      <th>artist</th>\n",
       "      <th>song</th>\n",
       "      <th>duration_ms</th>\n",
       "      <th>explicit</th>\n",
       "      <th>year</th>\n",
       "      <th>popularity</th>\n",
       "      <th>danceability</th>\n",
       "      <th>energy</th>\n",
       "      <th>key</th>\n",
       "      <th>loudness</th>\n",
       "      <th>mode</th>\n",
       "      <th>speechiness</th>\n",
       "      <th>acousticness</th>\n",
       "      <th>instrumentalness</th>\n",
       "      <th>liveness</th>\n",
       "      <th>valence</th>\n",
       "      <th>tempo</th>\n",
       "      <th>genre</th>\n",
       "    </tr>\n",
       "  </thead>\n",
       "  <tbody>\n",
       "    <tr>\n",
       "      <th>0</th>\n",
       "      <td>Britney Spears</td>\n",
       "      <td>Oops!...I Did It Again</td>\n",
       "      <td>211160</td>\n",
       "      <td>False</td>\n",
       "      <td>2000</td>\n",
       "      <td>77</td>\n",
       "      <td>0.751</td>\n",
       "      <td>0.834</td>\n",
       "      <td>1</td>\n",
       "      <td>-5.444</td>\n",
       "      <td>0</td>\n",
       "      <td>0.0437</td>\n",
       "      <td>0.3000</td>\n",
       "      <td>0.000018</td>\n",
       "      <td>0.3550</td>\n",
       "      <td>0.894</td>\n",
       "      <td>95.053</td>\n",
       "      <td>pop</td>\n",
       "    </tr>\n",
       "    <tr>\n",
       "      <th>1</th>\n",
       "      <td>blink-182</td>\n",
       "      <td>All The Small Things</td>\n",
       "      <td>167066</td>\n",
       "      <td>False</td>\n",
       "      <td>1999</td>\n",
       "      <td>79</td>\n",
       "      <td>0.434</td>\n",
       "      <td>0.897</td>\n",
       "      <td>0</td>\n",
       "      <td>-4.918</td>\n",
       "      <td>1</td>\n",
       "      <td>0.0488</td>\n",
       "      <td>0.0103</td>\n",
       "      <td>0.000000</td>\n",
       "      <td>0.6120</td>\n",
       "      <td>0.684</td>\n",
       "      <td>148.726</td>\n",
       "      <td>rock, pop</td>\n",
       "    </tr>\n",
       "    <tr>\n",
       "      <th>2</th>\n",
       "      <td>Faith Hill</td>\n",
       "      <td>Breathe</td>\n",
       "      <td>250546</td>\n",
       "      <td>False</td>\n",
       "      <td>1999</td>\n",
       "      <td>66</td>\n",
       "      <td>0.529</td>\n",
       "      <td>0.496</td>\n",
       "      <td>7</td>\n",
       "      <td>-9.007</td>\n",
       "      <td>1</td>\n",
       "      <td>0.0290</td>\n",
       "      <td>0.1730</td>\n",
       "      <td>0.000000</td>\n",
       "      <td>0.2510</td>\n",
       "      <td>0.278</td>\n",
       "      <td>136.859</td>\n",
       "      <td>pop, country</td>\n",
       "    </tr>\n",
       "    <tr>\n",
       "      <th>3</th>\n",
       "      <td>Bon Jovi</td>\n",
       "      <td>It's My Life</td>\n",
       "      <td>224493</td>\n",
       "      <td>False</td>\n",
       "      <td>2000</td>\n",
       "      <td>78</td>\n",
       "      <td>0.551</td>\n",
       "      <td>0.913</td>\n",
       "      <td>0</td>\n",
       "      <td>-4.063</td>\n",
       "      <td>0</td>\n",
       "      <td>0.0466</td>\n",
       "      <td>0.0263</td>\n",
       "      <td>0.000014</td>\n",
       "      <td>0.3470</td>\n",
       "      <td>0.544</td>\n",
       "      <td>119.992</td>\n",
       "      <td>rock, metal</td>\n",
       "    </tr>\n",
       "    <tr>\n",
       "      <th>4</th>\n",
       "      <td>*NSYNC</td>\n",
       "      <td>Bye Bye Bye</td>\n",
       "      <td>200560</td>\n",
       "      <td>False</td>\n",
       "      <td>2000</td>\n",
       "      <td>65</td>\n",
       "      <td>0.614</td>\n",
       "      <td>0.928</td>\n",
       "      <td>8</td>\n",
       "      <td>-4.806</td>\n",
       "      <td>0</td>\n",
       "      <td>0.0516</td>\n",
       "      <td>0.0408</td>\n",
       "      <td>0.001040</td>\n",
       "      <td>0.0845</td>\n",
       "      <td>0.879</td>\n",
       "      <td>172.656</td>\n",
       "      <td>pop</td>\n",
       "    </tr>\n",
       "  </tbody>\n",
       "</table>\n",
       "</div>"
      ],
      "text/plain": [
       "           artist                    song  duration_ms  explicit  year  \\\n",
       "0  Britney Spears  Oops!...I Did It Again       211160     False  2000   \n",
       "1       blink-182    All The Small Things       167066     False  1999   \n",
       "2      Faith Hill                 Breathe       250546     False  1999   \n",
       "3        Bon Jovi            It's My Life       224493     False  2000   \n",
       "4          *NSYNC             Bye Bye Bye       200560     False  2000   \n",
       "\n",
       "   popularity  danceability  energy  key  loudness  mode  speechiness  \\\n",
       "0          77         0.751   0.834    1    -5.444     0       0.0437   \n",
       "1          79         0.434   0.897    0    -4.918     1       0.0488   \n",
       "2          66         0.529   0.496    7    -9.007     1       0.0290   \n",
       "3          78         0.551   0.913    0    -4.063     0       0.0466   \n",
       "4          65         0.614   0.928    8    -4.806     0       0.0516   \n",
       "\n",
       "   acousticness  instrumentalness  liveness  valence    tempo         genre  \n",
       "0        0.3000          0.000018    0.3550    0.894   95.053           pop  \n",
       "1        0.0103          0.000000    0.6120    0.684  148.726     rock, pop  \n",
       "2        0.1730          0.000000    0.2510    0.278  136.859  pop, country  \n",
       "3        0.0263          0.000014    0.3470    0.544  119.992   rock, metal  \n",
       "4        0.0408          0.001040    0.0845    0.879  172.656           pop  "
      ]
     },
     "execution_count": 3,
     "metadata": {},
     "output_type": "execute_result"
    }
   ],
   "source": [
    "file =(f'top-hits-spotify-from-20002019/songs_normalize.csv')\n",
    "music_df = pd.read_csv(file)\n",
    "\n",
    "music_df.head(5)"
   ]
  },
  {
   "cell_type": "markdown",
   "metadata": {},
   "source": [
    "### Data understanding\n",
    "\n",
    "Датасет содержит 2000 песен и следующие параметры (с указанием формата):\n",
    "\n",
    "* Исполнитель **(artist ---- str)**\n",
    "* Название трека **(song ---- str)**\n",
    "* Продолжительность трека в миллисекундах **(duration_ms ---- int)**\n",
    "* Откровенность **(explicit ---- boolean)**: текст песни (не) могут считаться оскорбительными или неподходящими для детей\n",
    "* Год выпуска трека **(year ---- int)**\n",
    "* Популярность **(popularity ---- int)**: чем выше значение, тем популярнее песня\n",
    "* Танцевальность **(danceability ---- float**): насколько трек подходит для танцев, основываясь на сочетании музыкальных элементов, включая темп, стабильность ритма, бит и т.д. Значение 0 соответствует наименее танцевальному, а значение 1 — наиболее танцевальному\n",
    "* Энергичность **(energy ---- float)**: перцептивная мера интенсивности и активности от 0 до 1\n",
    "* Тональность **(key ---- int)**, в которой находится трек. Целые числа сопоставляются с высотой тона, используя стандартную нотацию Pitch Class. Например. 0 = C, 1 = C♯/D♭, 2 = D и так далее. Если ключ не обнаружен, значение равно -1\n",
    "* Громкость **(loudness ---- float)**: общая громкость дорожки в децибелах (дБ). Значения громкости усредняются по всей дорожке и полезны для сравнения относительной громкости дорожек. Обычно значения находятся в диапазоне от -60 до 0 дБ\n",
    "* Модальность **(mode ---- int)** мажор или минор трека, тип гаммы, из которого получено его мелодическое содержание. Мажор представлен 1, а минор 0\n",
    "* Речь **(speechiness ---- float)**: определяет наличие произнесенных слов в дорожке. Чем больше речи содержит запись, тем значение ближе к 1\n",
    "* Акустика **(acousticness ---- float)**: показатель того, является ли трек акустическим. 1 означает высокую уверенность в том, что трек является акустическим\n",
    "* Инструментальность **(instrumentalness ---- float)**: мера того, насколько мало в треке вокала (насколько он инструментальный). Звуки «ох» и «ааа» в этом контексте рассматриваются как инструментальные. Треки в стиле рэп или другие содержащие слова - «вокальные». Чем ближе значение инструментальности к 1, тем больше вероятность того, что трек не содержит вокального содержания\n",
    "* Живое исполнение **(liveness ---- float)**: определяет присутствие аудитории в записи. Более высокие значения живости (выше 0,8) дает высокую вероятность того, что трек был исполнен вживую\n",
    "* Валентность **(valence ---- float)**: мера от 0 до 1 описывающая музыкальную позитивность, передаваемую треком. Треки с высокой валентностью звучат более позитивно (например, счастливые, веселые, эйфорические), в то время как треки с низкой валентностью звучат более негативно (например, грустные, подавленные, злые)\n",
    "* Темп **(tempo ---- float)**: общий предполагаемый темп дорожки в ударах в минуту (BPM)\n",
    "* Жанр трека **(genre ---- text)**"
   ]
  },
  {
   "cell_type": "code",
   "execution_count": 4,
   "metadata": {},
   "outputs": [
    {
     "name": "stdout",
     "output_type": "stream",
     "text": [
      "<class 'pandas.core.frame.DataFrame'>\n",
      "RangeIndex: 2000 entries, 0 to 1999\n",
      "Data columns (total 18 columns):\n",
      "artist              2000 non-null object\n",
      "song                2000 non-null object\n",
      "duration_ms         2000 non-null int64\n",
      "explicit            2000 non-null bool\n",
      "year                2000 non-null int64\n",
      "popularity          2000 non-null int64\n",
      "danceability        2000 non-null float64\n",
      "energy              2000 non-null float64\n",
      "key                 2000 non-null int64\n",
      "loudness            2000 non-null float64\n",
      "mode                2000 non-null int64\n",
      "speechiness         2000 non-null float64\n",
      "acousticness        2000 non-null float64\n",
      "instrumentalness    2000 non-null float64\n",
      "liveness            2000 non-null float64\n",
      "valence             2000 non-null float64\n",
      "tempo               2000 non-null float64\n",
      "genre               2000 non-null object\n",
      "dtypes: bool(1), float64(9), int64(5), object(3)\n",
      "memory usage: 267.7+ KB\n"
     ]
    }
   ],
   "source": [
    "music_df.info(5)"
   ]
  },
  {
   "cell_type": "markdown",
   "metadata": {},
   "source": [
    "## 2. Соединение с сервером"
   ]
  },
  {
   "cell_type": "code",
   "execution_count": 5,
   "metadata": {
    "colab": {
     "base_uri": "https://localhost:8080/"
    },
    "id": "wjpAjkZr7MaC",
    "outputId": "9a73098c-db43-4395-d36c-0ea00fdb2e02"
   },
   "outputs": [
    {
     "name": "stdout",
     "output_type": "stream",
     "text": [
      "Requirement already satisfied: mysql-connector-python in c:\\python311\\lib\\site-packages (8.0.33)\n",
      "Requirement already satisfied: protobuf<=3.20.3,>=3.11.0 in c:\\python311\\lib\\site-packages (from mysql-connector-python) (3.20.3)\n"
     ]
    },
    {
     "name": "stderr",
     "output_type": "stream",
     "text": [
      "\n",
      "[notice] A new release of pip available: 22.3 -> 23.1.2\n",
      "[notice] To update, run: C:\\Python311\\python.exe -m pip install --upgrade pip\n"
     ]
    }
   ],
   "source": [
    "!pip3 install mysql-connector-python\n",
    "\n",
    "import mysql.connector"
   ]
  },
  {
   "cell_type": "markdown",
   "metadata": {},
   "source": [
    "![mysql_connections](mysql_connections.jpg)"
   ]
  },
  {
   "cell_type": "code",
   "execution_count": 6,
   "metadata": {
    "colab": {
     "base_uri": "https://localhost:8080/",
     "height": 432
    },
    "id": "Af7wPLDG7tmc",
    "outputId": "d6dc81cb-da02-41ff-d0fb-e5d695b62305"
   },
   "outputs": [],
   "source": [
    "con = mysql.connector.connect(host='localhost', port=3306, user='root', password='****')"
   ]
  },
  {
   "cell_type": "code",
   "execution_count": 7,
   "metadata": {},
   "outputs": [],
   "source": [
    "cur = con.cursor()"
   ]
  },
  {
   "cell_type": "markdown",
   "metadata": {},
   "source": [
    "## 3. Cоздание схемы, таблиц"
   ]
  },
  {
   "cell_type": "code",
   "execution_count": 8,
   "metadata": {},
   "outputs": [],
   "source": [
    "# SCHEMA - top_hits_spotify\n",
    "cur.execute('CREATE SCHEMA IF NOT EXISTS top_hits_spotify')"
   ]
  },
  {
   "cell_type": "code",
   "execution_count": 9,
   "metadata": {},
   "outputs": [],
   "source": [
    "# TABLE - genres\n",
    "cur.execute('''CREATE TABLE IF NOT EXISTS top_hits_spotify.genres (\n",
    "  id_genre INT NOT NULL,\n",
    "  genre TEXT NOT NULL,\n",
    "  PRIMARY KEY (`id_genre`));''')"
   ]
  },
  {
   "cell_type": "code",
   "execution_count": 10,
   "metadata": {},
   "outputs": [],
   "source": [
    "# TABLE - artists\n",
    "cur.execute('''CREATE TABLE IF NOT EXISTS top_hits_spotify.artists (\n",
    "  id_artist INT NOT NULL,\n",
    "  artist TEXT NOT NULL,\n",
    "  PRIMARY KEY (`id_artist`));''')"
   ]
  },
  {
   "cell_type": "code",
   "execution_count": 11,
   "metadata": {},
   "outputs": [],
   "source": [
    "# TABLE - tracks\n",
    "cur.execute('''CREATE TABLE IF NOT EXISTS top_hits_spotify.tracks (\n",
    "  id_track INT NOT NULL,\n",
    "  track_title TEXT NOT NULL,\n",
    "  id_artist INT NOT NULL,\n",
    "  PRIMARY KEY (`id_track`));''')"
   ]
  },
  {
   "cell_type": "code",
   "execution_count": 12,
   "metadata": {},
   "outputs": [],
   "source": [
    "# TABLE - tracks_info\n",
    "cur.execute('''CREATE TABLE IF NOT EXISTS top_hits_spotify.tracks2info (\n",
    "  id_track INT NOT NULL,\n",
    "  duration_ms INT NOT NULL,\n",
    "  explicit INT NOT NULL,\n",
    "  year INT NOT NULL,\n",
    "  popularity INT NOT NULL,\n",
    "  danceability FLOAT NOT NULL,\n",
    "  energy FLOAT NOT NULL,\n",
    "  music_key INT NOT NULL,\n",
    "  loudness FLOAT NOT NULL,\n",
    "  mode INT NOT NULL,\n",
    "  speechiness FLOAT NOT NULL,\n",
    "  acousticness FLOAT NOT NULL,\n",
    "  instrumentalness FLOAT NOT NULL,\n",
    "  liveness FLOAT NOT NULL,\n",
    "  valence FLOAT NOT NULL,\n",
    "  tempo FLOAT NOT NULL,  \n",
    "  PRIMARY KEY (`id_track`));''')"
   ]
  },
  {
   "cell_type": "code",
   "execution_count": 13,
   "metadata": {},
   "outputs": [],
   "source": [
    "# TABLE - tracks2genres\n",
    "cur.execute('''CREATE TABLE IF NOT EXISTS top_hits_spotify.tracks2genres (\n",
    "  id_track INT NOT NULL,\n",
    "  id_genre INT NOT NULL);''')"
   ]
  },
  {
   "cell_type": "code",
   "execution_count": 14,
   "metadata": {},
   "outputs": [],
   "source": [
    "con = mysql.connector.connect(host='localhost', port=3306, database='top_hits_spotify', \n",
    "                              user='root', password='Dexter_2015!')"
   ]
  },
  {
   "cell_type": "code",
   "execution_count": 15,
   "metadata": {},
   "outputs": [],
   "source": [
    "cur = con.cursor()"
   ]
  },
  {
   "cell_type": "markdown",
   "metadata": {},
   "source": [
    "![music_db](music_db_sceme.jpg)"
   ]
  },
  {
   "cell_type": "markdown",
   "metadata": {},
   "source": [
    "## 4. Заполнение БД"
   ]
  },
  {
   "cell_type": "code",
   "execution_count": 16,
   "metadata": {},
   "outputs": [],
   "source": [
    "# функция для кодировки уникальных значений колонки целочисленными ID\n",
    "\n",
    "def encode_values(values):\n",
    "    unique_values = list(values.unique())\n",
    "    dict_codes = {}\n",
    "\n",
    "    for i, name in enumerate(unique_values):\n",
    "        dict_codes[name] = i+1\n",
    "\n",
    "    return dict_codes"
   ]
  },
  {
   "cell_type": "markdown",
   "metadata": {},
   "source": [
    "### 4.1. Artists"
   ]
  },
  {
   "cell_type": "code",
   "execution_count": 17,
   "metadata": {
    "scrolled": true
   },
   "outputs": [
    {
     "name": "stdout",
     "output_type": "stream",
     "text": [
      "Уникальных исполнителей:  835\n"
     ]
    }
   ],
   "source": [
    "# посмотрим, сколько уникальных исполнителей у нас есть (и какие они)\n",
    "\n",
    "print('Уникальных исполнителей: ', len(music_df['artist'].unique()))"
   ]
  },
  {
   "cell_type": "code",
   "execution_count": 18,
   "metadata": {},
   "outputs": [],
   "source": [
    "# кодируем исполнителей\n",
    "dict_artists = encode_values(music_df['artist'])"
   ]
  },
  {
   "cell_type": "code",
   "execution_count": 19,
   "metadata": {
    "scrolled": true
   },
   "outputs": [],
   "source": [
    "# добавляем сопоставление в DF\n",
    "\n",
    "music_df['artist_id'] = [dict_artists[music_df['artist'][i]] for i in range(music_df.shape[0])]"
   ]
  },
  {
   "cell_type": "code",
   "execution_count": 20,
   "metadata": {},
   "outputs": [],
   "source": [
    "music_df = music_df.astype({'artist_id': int})"
   ]
  },
  {
   "cell_type": "markdown",
   "metadata": {},
   "source": [
    "заполняем таблицу artists в БД:"
   ]
  },
  {
   "cell_type": "code",
   "execution_count": 21,
   "metadata": {},
   "outputs": [],
   "source": [
    "for item in dict_artists.items():    \n",
    "    cur.execute('''INSERT INTO top_hits_spotify.artists (id_artist, artist)\n",
    "           VALUES (%s ,%s)''',(item[1], item[0]) )\n",
    "    \n",
    "    con.commit()"
   ]
  },
  {
   "cell_type": "markdown",
   "metadata": {},
   "source": [
    "### 4.2. Tracks"
   ]
  },
  {
   "cell_type": "code",
   "execution_count": 22,
   "metadata": {},
   "outputs": [],
   "source": [
    "# присваиваем id каждому треку\n",
    "\n",
    "music_df['track_id'] = [i+1 for i in range(music_df.shape[0])]"
   ]
  },
  {
   "cell_type": "code",
   "execution_count": 23,
   "metadata": {},
   "outputs": [],
   "source": [
    "music_df = music_df.astype({'track_id': int})"
   ]
  },
  {
   "cell_type": "markdown",
   "metadata": {},
   "source": [
    "заполняем таблицу tracks в БД:"
   ]
  },
  {
   "cell_type": "code",
   "execution_count": 24,
   "metadata": {},
   "outputs": [
    {
     "name": "stdout",
     "output_type": "stream",
     "text": [
      "Wall time: 4.78 s\n"
     ]
    }
   ],
   "source": [
    "%%time\n",
    "\n",
    "for i in range(music_df.shape[0]):\n",
    "    track_id = int(music_df['track_id'][i])\n",
    "    track = music_df['song'][i]\n",
    "    artist_id = int(music_df['artist_id'][i])\n",
    "    cur.execute('''INSERT INTO top_hits_spotify.tracks (id_track, track_title, id_artist)\n",
    "           VALUES (%s, %s, %s)''',(track_id, track, artist_id)  )\n",
    "    \n",
    "    con.commit()"
   ]
  },
  {
   "cell_type": "markdown",
   "metadata": {},
   "source": [
    "### 4.3. Genres"
   ]
  },
  {
   "cell_type": "code",
   "execution_count": 25,
   "metadata": {},
   "outputs": [],
   "source": [
    "from collections import Counter"
   ]
  },
  {
   "cell_type": "code",
   "execution_count": 26,
   "metadata": {},
   "outputs": [
    {
     "name": "stdout",
     "output_type": "stream",
     "text": [
      "Уникальных жанров:  59\n",
      "['pop', 'rock, pop', 'pop, country', 'rock, metal', 'hip hop, pop, R&B', 'hip hop', 'pop, rock', 'pop, R&B', 'Dance/Electronic', 'pop, Dance/Electronic', 'rock, Folk/Acoustic, easy listening', 'metal', 'hip hop, pop', 'R&B', 'pop, latin', 'Folk/Acoustic, rock', 'pop, easy listening, Dance/Electronic', 'rock', 'rock, blues, latin', 'pop, rock, metal', 'rock, pop, metal', 'hip hop, R&B', 'pop, Folk/Acoustic', 'set()', 'hip hop, pop, latin', 'hip hop, Dance/Electronic', 'hip hop, pop, rock', 'World/Traditional, Folk/Acoustic', 'Folk/Acoustic, pop', 'rock, easy listening', 'World/Traditional, hip hop', 'hip hop, pop, R&B, latin', 'rock, blues', 'rock, R&B, Folk/Acoustic, pop', 'latin', 'pop, R&B, Dance/Electronic', 'World/Traditional, rock', 'pop, rock, Dance/Electronic', 'pop, easy listening, jazz', 'rock, Dance/Electronic', 'World/Traditional, pop, Folk/Acoustic', 'country', 'hip hop, pop, Dance/Electronic', 'hip hop, pop, country', 'World/Traditional, rock, pop', 'World/Traditional, pop', 'hip hop, pop, R&B, Dance/Electronic', 'pop, R&B, easy listening', 'rock, pop, Dance/Electronic', 'Folk/Acoustic, rock, pop', 'rock, pop, metal, Dance/Electronic', 'pop, rock, Folk/Acoustic', 'country, latin', 'rock, classical', 'rock, Folk/Acoustic, pop', 'hip hop, rock, pop', 'easy listening', 'hip hop, latin, Dance/Electronic', 'hip hop, country']\n"
     ]
    }
   ],
   "source": [
    "# посмотрим, сколько уникальных значений жанров у нас есть (и какие они)\n",
    "\n",
    "print('Уникальных жанров: ', len(music_df['genre'].unique()))\n",
    "print(list(music_df['genre'].unique()))\n",
    "\n",
    "# бывает по несколько значений в ячейке... что делать?"
   ]
  },
  {
   "cell_type": "code",
   "execution_count": 27,
   "metadata": {
    "scrolled": true
   },
   "outputs": [
    {
     "name": "stdout",
     "output_type": "stream",
     "text": [
      "Максимальное кол-во жанров в ячейке:  4\n",
      "Counter({'pop': 1633, 'hip hop': 778, 'R&B': 452, 'Dance/Electronic': 390, 'rock': 234, 'metal': 66, 'latin': 64, 'set()': 22, 'country': 21, 'Folk/Acoustic': 20, 'World/Traditional': 10, 'easy listening': 7, 'blues': 4, 'jazz': 2, 'classical': 1})\n"
     ]
    }
   ],
   "source": [
    "# соберём уникальные тэги жанров\n",
    "genre_vocab = Counter() # и бонусом инфу об их частотности\n",
    "lengths = [] # узнаем, как много тэгов может одновременно писаться в одной клеточке\n",
    "\n",
    "for i in range(music_df.shape[0]):\n",
    "    sep_genres = music_df['genre'][i].split(', ')\n",
    "    lengths.append(len(sep_genres))\n",
    "    genre_vocab.update(sep_genres)\n",
    "\n",
    "print('Максимальное кол-во жанров в ячейке: ', max(lengths))\n",
    "print(genre_vocab)"
   ]
  },
  {
   "cell_type": "code",
   "execution_count": 28,
   "metadata": {
    "scrolled": false
   },
   "outputs": [
    {
     "name": "stdout",
     "output_type": "stream",
     "text": [
      "{'set()': 0, 'pop': 1, 'rock': 2, 'country': 3, 'metal': 4, 'hip hop': 5, 'R&B': 6, 'Dance/Electronic': 7, 'Folk/Acoustic': 8, 'easy listening': 9, 'latin': 10, 'blues': 11, 'World/Traditional': 12, 'jazz': 13, 'classical': 14}\n"
     ]
    }
   ],
   "source": [
    "# выясняем, что такое set()?\n",
    "# data.loc[data['genre'] == 'set()']\n",
    "# оказалось, что это неопределённый жанр\n",
    "# будем кодировать его 0\n",
    "\n",
    "def encode_genre_values(unique_values):\n",
    "    dict_codes = {}\n",
    "\n",
    "    dict_codes['set()'] = 0\n",
    "    unique_values.remove('set()') # чтобы дальше нумерация шла по порядку без пропусков\n",
    "    for i, name in enumerate(unique_values):\n",
    "        dict_codes[name] = int(i+1)\n",
    "\n",
    "    return dict_codes\n",
    "\n",
    "dict_genres = encode_genre_values(list(genre_vocab.keys()))\n",
    "print(dict_genres)"
   ]
  },
  {
   "cell_type": "markdown",
   "metadata": {},
   "source": [
    "заполняем таблицу genres в БД:"
   ]
  },
  {
   "cell_type": "code",
   "execution_count": 29,
   "metadata": {},
   "outputs": [],
   "source": [
    "for item in dict_genres.items():    \n",
    "    cur.execute('''INSERT INTO top_hits_spotify.genres (id_genre, genre)\n",
    "           VALUES (%s ,%s)''',(item[1], item[0]) )\n",
    "    \n",
    "    con.commit()"
   ]
  },
  {
   "cell_type": "markdown",
   "metadata": {},
   "source": [
    "### 4.4. Tracks2genres"
   ]
  },
  {
   "cell_type": "code",
   "execution_count": 30,
   "metadata": {},
   "outputs": [],
   "source": [
    "import numpy as np"
   ]
  },
  {
   "cell_type": "markdown",
   "metadata": {},
   "source": [
    "заполняем таблицу tracks2genres в БД:"
   ]
  },
  {
   "cell_type": "code",
   "execution_count": 31,
   "metadata": {},
   "outputs": [],
   "source": [
    "for i in range(music_df.shape[0]):\n",
    "    sep_genres = music_df['genre'][i].split(', ')\n",
    "    track_id = int(music_df['track_id'][i])\n",
    "    \n",
    "    if len(sep_genres) == 1:\n",
    "        cur.execute('''INSERT INTO top_hits_spotify.tracks2genres (id_track, id_genre) \n",
    "        VALUES (%s ,%s)''',(track_id, dict_genres[sep_genres[0]]) )\n",
    "        con.commit()\n",
    "    \n",
    "    if len(sep_genres) > 1:\n",
    "        for item in sep_genres:\n",
    "            cur.execute('''INSERT INTO top_hits_spotify.tracks2genres (id_track, id_genre) \n",
    "            VALUES (%s ,%s)''',(track_id, dict_genres[item]) )\n",
    "            con.commit()"
   ]
  },
  {
   "cell_type": "markdown",
   "metadata": {},
   "source": [
    "### 4.5. Tracks2info"
   ]
  },
  {
   "cell_type": "code",
   "execution_count": 32,
   "metadata": {},
   "outputs": [],
   "source": [
    "# штрих - привести bool в 'explicit' к числовому значению\n",
    "\n",
    "music_df['explicit'] = music_df['explicit'].replace({True: 1, False: 0})"
   ]
  },
  {
   "cell_type": "markdown",
   "metadata": {},
   "source": [
    "заполняем таблицу tracks2info в БД:"
   ]
  },
  {
   "cell_type": "code",
   "execution_count": 33,
   "metadata": {},
   "outputs": [],
   "source": [
    "for i in range(music_df.shape[0]):\n",
    "    track_id = int(music_df['track_id'][i])\n",
    "    duration_ms = int(music_df['duration_ms'][i])\n",
    "    explicit = int(music_df['explicit'][i])\n",
    "    year = int(music_df['year'][i])\n",
    "    popularity = int(music_df['popularity'][i])\n",
    "    danceability = float(music_df['danceability'][i])\n",
    "    energy = float(music_df['energy'][i])\n",
    "    music_key = int(music_df['key'][i])\n",
    "    loudness = float(music_df['loudness'][i])\n",
    "    mode = int(music_df['mode'][i])\n",
    "    speechiness = float(music_df['speechiness'][i])\n",
    "    acousticness = float(music_df['acousticness'][i])\n",
    "    instrumentalness = float(music_df['instrumentalness'][i])\n",
    "    liveness = float(music_df['liveness'][i])\n",
    "    valence = float(music_df['valence'][i])\n",
    "    tempo = float(music_df['tempo'][i])\n",
    "\n",
    "    \n",
    "    cur.execute('''INSERT INTO top_hits_spotify.tracks2info (id_track, duration_ms, explicit,\n",
    "    year, popularity, danceability, energy, music_key, loudness, mode, speechiness, acousticness,\n",
    "    instrumentalness, liveness, valence, tempo) \n",
    "    VALUES (%s ,%s ,%s ,%s ,%s ,%s ,%s ,%s ,%s ,%s ,%s ,%s ,%s ,%s ,%s ,%s)''',\n",
    "                (track_id, duration_ms, explicit,\n",
    "    year, popularity, danceability, energy, music_key, loudness, mode, speechiness, acousticness,\n",
    "    instrumentalness, liveness, valence, tempo) )\n",
    "    con.commit()"
   ]
  },
  {
   "cell_type": "markdown",
   "metadata": {},
   "source": [
    "Ура, наша база заполнена!\n",
    "\n",
    "Теперь можно с ней всячески упражняться."
   ]
  },
  {
   "cell_type": "markdown",
   "metadata": {},
   "source": [
    "## 5. Запросы к БД, Read, Update & Delete\n",
    "\n",
    "В предыдущих разделах мы уже показали создание базы и таблиц в ней (критерий CREATE), а также продемонстрировали возможность класть в неё данные (критерий UPDATE). Для полного CRUD осталось прочитать или удалить что-то из базы."
   ]
  },
  {
   "cell_type": "code",
   "execution_count": 34,
   "metadata": {},
   "outputs": [],
   "source": [
    "con = mysql.connector.connect(host='localhost', port=3306, database='top_hits_spotify', \n",
    "                              user='root', password='Dexter_2015!')"
   ]
  },
  {
   "cell_type": "code",
   "execution_count": 35,
   "metadata": {},
   "outputs": [],
   "source": [
    "cur = con.cursor()"
   ]
  },
  {
   "cell_type": "markdown",
   "metadata": {},
   "source": [
    "### 5.0. UPDATE"
   ]
  },
  {
   "cell_type": "code",
   "execution_count": 106,
   "metadata": {},
   "outputs": [],
   "source": [
    "# заменим все нули популяррности на 1\n",
    "\n",
    "req0 = '''UPDATE tracks2info\n",
    "SET popularity = 1\n",
    "WHERE popularity = 0;'''\n",
    "\n",
    "cur.execute(req0)\n",
    "con.commit()"
   ]
  },
  {
   "cell_type": "markdown",
   "metadata": {},
   "source": [
    "Проверимся:"
   ]
  },
  {
   "cell_type": "code",
   "execution_count": 108,
   "metadata": {},
   "outputs": [],
   "source": [
    "req01 = '''SELECT * FROM tracks2info\n",
    "WHERE popularity = 0;'''\n",
    "\n",
    "cur.execute(req01)\n",
    "result0 = cur.fetchall()"
   ]
  },
  {
   "cell_type": "code",
   "execution_count": 109,
   "metadata": {
    "scrolled": true
   },
   "outputs": [
    {
     "name": "stdout",
     "output_type": "stream",
     "text": [
      "0\n"
     ]
    },
    {
     "data": {
      "text/plain": [
       "[]"
      ]
     },
     "execution_count": 109,
     "metadata": {},
     "output_type": "execute_result"
    }
   ],
   "source": [
    "print(len(result0))\n",
    "result0"
   ]
  },
  {
   "cell_type": "markdown",
   "metadata": {},
   "source": [
    "Успех!"
   ]
  },
  {
   "cell_type": "markdown",
   "metadata": {},
   "source": [
    "### 5.1. SELECT + INNER JOIN"
   ]
  },
  {
   "cell_type": "code",
   "execution_count": 36,
   "metadata": {},
   "outputs": [],
   "source": [
    "# найдём все треки (название + исполнитель) с мажорной модальностью\n",
    "# и 2010 годом выпуска\n",
    "\n",
    "req = '''SELECT T.track_title, A.artist \n",
    "FROM tracks T\n",
    "INNER JOIN artists A \n",
    "ON T.id_artist = A.id_artist\n",
    "INNER JOIN tracks2info TI \n",
    "ON TI.id_track = T.id_track \n",
    "WHERE TI.mode = 1 AND TI.year = 2010;'''"
   ]
  },
  {
   "cell_type": "code",
   "execution_count": 37,
   "metadata": {},
   "outputs": [],
   "source": [
    "cur.execute(req)\n",
    "result = cur.fetchall()"
   ]
  },
  {
   "cell_type": "code",
   "execution_count": 38,
   "metadata": {},
   "outputs": [
    {
     "name": "stdout",
     "output_type": "stream",
     "text": [
      "57\n"
     ]
    },
    {
     "data": {
      "text/plain": [
       "[('Hey Baby (Radio Mix)', 'DJ Ötzi'),\n",
       " ('When Love Takes Over (feat. Kelly Rowland)', 'David Guetta'),\n",
       " ('Sober', 'P!nk'),\n",
       " ('Whatcha Say', 'Jason Derulo'),\n",
       " ('Just the Way You Are', 'Bruno Mars'),\n",
       " ('Love The Way You Lie', 'Eminem'),\n",
       " ('Memories (feat. Kid Cudi)', 'David Guetta'),\n",
       " ('Dynamite', 'Taio Cruz'),\n",
       " ('Like A G6', 'Far East Movement'),\n",
       " ('Barbra Streisand - Radio Edit', 'Duck Sauce'),\n",
       " ('Gold Dust - Radio Edit', 'DJ Fresh'),\n",
       " ('Break Your Heart', 'Taio Cruz'),\n",
       " (\"Club Can't Handle Me (feat. David Guetta)\", 'Flo Rida'),\n",
       " ('Eenie Meenie', 'Sean Kingston'),\n",
       " ('No Hands (feat. Roscoe Dash & Wale)', 'Waka Flocka Flame'),\n",
       " ('Written in the Stars (feat. Eric Turner)', 'Tinie Tempah'),\n",
       " ('We No Speak Americano (JT Radio Edit)', 'Yolanda Be Cool'),\n",
       " ('Pass Out', 'Tinie Tempah'),\n",
       " ('Bottoms Up (feat. Nicki Minaj)', 'Trey Songz'),\n",
       " ('Seek Bromance - Avicii’s Vocal Edit', 'Tim Berg'),\n",
       " ('My First Kiss (feat. Ke$ha)', '3OH!3'),\n",
       " ('How Low', 'Ludacris'),\n",
       " ('Blah Blah Blah (feat. 3OH!3)', 'Kesha'),\n",
       " ('All I Do Is Win (feat. T-Pain, Ludacris, Snoop Dogg & Rick Ross)',\n",
       "  'DJ Khaled'),\n",
       " ('My Chick Bad', 'Ludacris'),\n",
       " ('Just A Dream', 'Nelly'),\n",
       " (\"What's My Name?\", 'Rihanna'),\n",
       " ('Impossible', 'Shontelle'),\n",
       " ('Whatcha Say', 'Jason Derulo'),\n",
       " ('Over', 'Drake'),\n",
       " ('Kickstarts', 'Example'),\n",
       " ('Higher', 'The Saturdays'),\n",
       " (\"Hey Daddy (Daddy's Home)\", 'Usher'),\n",
       " ('Your Love Is My Drug', 'Kesha'),\n",
       " (\"Ridin' Solo\", 'Jason Derulo'),\n",
       " (\"Nothin' on You (feat. Bruno Mars)\", 'B.o.B'),\n",
       " ('Teenage Dream', 'Katy Perry'),\n",
       " ('Need You Now', 'Lady A'),\n",
       " ('Back To December', 'Taylor Swift'),\n",
       " ('Animal', 'Neon Trees'),\n",
       " ('Dancing On My Own', 'Robyn'),\n",
       " ('If I Die Young', 'The Band Perry'),\n",
       " ('Firework', 'Katy Perry'),\n",
       " ('S&M', 'Rihanna'),\n",
       " ('More - RedOne Jimmy Joker Remix', 'Usher'),\n",
       " ('Down On Me', 'Jeremih'),\n",
       " ('No Hands (feat. Roscoe Dash & Wale)', 'Waka Flocka Flame'),\n",
       " ('We R Who We R', 'Kesha'),\n",
       " ('All Of The Lights', 'Kanye West'),\n",
       " ('Coming Home', 'Diddy - Dirty Money'),\n",
       " (\"What's My Name?\", 'Rihanna'),\n",
       " ('Super Bass', 'Nicki Minaj'),\n",
       " ('Dirt Road Anthem', 'Jason Aldean'),\n",
       " (\"F**kin' Perfect\", 'P!nk'),\n",
       " ('Raise Your Glass', 'P!nk'),\n",
       " ('Marry You', 'Bruno Mars'),\n",
       " ('If I Die Young', 'The Band Perry')]"
      ]
     },
     "execution_count": 38,
     "metadata": {},
     "output_type": "execute_result"
    }
   ],
   "source": [
    "print(len(result))\n",
    "result"
   ]
  },
  {
   "cell_type": "markdown",
   "metadata": {},
   "source": [
    "Заметила, что повторяется трек Рианны \"What's My Name?\", посмотрим-ка на него:"
   ]
  },
  {
   "cell_type": "code",
   "execution_count": 39,
   "metadata": {},
   "outputs": [],
   "source": [
    "req_1 = '''SELECT T.id_track, T.track_title, A.artist FROM tracks T\n",
    "INNER JOIN artists A \n",
    "ON T.id_artist = A.id_artist\n",
    "INNER JOIN tracks2info TI \n",
    "ON TI.id_track = T.id_track \n",
    "WHERE A.artist = \"Rihanna\" AND T.track_title = \"What's My Name?\";'''"
   ]
  },
  {
   "cell_type": "code",
   "execution_count": 40,
   "metadata": {},
   "outputs": [],
   "source": [
    "cur.execute(req_1)\n",
    "result_1 = cur.fetchall()"
   ]
  },
  {
   "cell_type": "code",
   "execution_count": 41,
   "metadata": {},
   "outputs": [
    {
     "name": "stdout",
     "output_type": "stream",
     "text": [
      "2\n"
     ]
    },
    {
     "data": {
      "text/plain": [
       "[(1067, \"What's My Name?\", 'Rihanna'), (1159, \"What's My Name?\", 'Rihanna')]"
      ]
     },
     "execution_count": 41,
     "metadata": {},
     "output_type": "execute_result"
    }
   ],
   "source": [
    "print(len(result_1))\n",
    "result_1"
   ]
  },
  {
   "cell_type": "markdown",
   "metadata": {},
   "source": [
    "Ага, дубль в данных. Ну, тогда мы его удалим:\n",
    "\n",
    "### 5.2. DELETE + WHERE 3 таблицы"
   ]
  },
  {
   "cell_type": "code",
   "execution_count": 42,
   "metadata": {},
   "outputs": [],
   "source": [
    "req_2 = '''DELETE tracks, tracks2genres, tracks2info FROM tracks \n",
    "JOIN tracks2genres ON\n",
    "tracks.id_track = tracks2genres.id_track\n",
    "JOIN tracks2info ON\n",
    "tracks.id_track = tracks2info.id_track\n",
    "JOIN artists ON\n",
    "artists.id_artist = tracks.id_artist\n",
    "WHERE tracks2info.id_track = 1159 AND artists.artist = \"Rihanna\" AND tracks.track_title = \"What's My Name?\";'''"
   ]
  },
  {
   "cell_type": "code",
   "execution_count": 43,
   "metadata": {},
   "outputs": [],
   "source": [
    "cur.execute(req_2)\n",
    "con.commit()"
   ]
  },
  {
   "cell_type": "markdown",
   "metadata": {},
   "source": [
    "Проверимся:"
   ]
  },
  {
   "cell_type": "code",
   "execution_count": 44,
   "metadata": {},
   "outputs": [],
   "source": [
    "req_21 = '''SELECT T.id_track, T.track_title, A.artist FROM tracks T\n",
    "INNER JOIN artists A \n",
    "ON T.id_artist = A.id_artist\n",
    "INNER JOIN tracks2info TI \n",
    "ON TI.id_track = T.id_track \n",
    "WHERE A.artist = \"Rihanna\" AND T.track_title = \"What's My Name?\";'''"
   ]
  },
  {
   "cell_type": "code",
   "execution_count": 45,
   "metadata": {},
   "outputs": [],
   "source": [
    "cur.execute(req_21)\n",
    "result_21 = cur.fetchall()"
   ]
  },
  {
   "cell_type": "code",
   "execution_count": 46,
   "metadata": {},
   "outputs": [
    {
     "name": "stdout",
     "output_type": "stream",
     "text": [
      "1\n"
     ]
    },
    {
     "data": {
      "text/plain": [
       "[(1067, \"What's My Name?\", 'Rihanna')]"
      ]
     },
     "execution_count": 46,
     "metadata": {},
     "output_type": "execute_result"
    }
   ],
   "source": [
    "print(len(result_21))\n",
    "result_21"
   ]
  },
  {
   "cell_type": "markdown",
   "metadata": {},
   "source": [
    "Успех!"
   ]
  },
  {
   "cell_type": "markdown",
   "metadata": {},
   "source": [
    "### 5.3. Вложенный SELECT"
   ]
  },
  {
   "cell_type": "code",
   "execution_count": 47,
   "metadata": {},
   "outputs": [],
   "source": [
    "# найдём самые популярные (>85) и самые энергичные (>0.85) треки\n",
    "# из них выберем треки в жанре \"metal\"\n",
    "# и выведем их в формате \"id трэка + название + исполнитель + жанр\"\n",
    "\n",
    "req3 = '''SELECT T.id_track, T.track_title, A.artist, G.genre FROM tracks T\n",
    "INNER JOIN artists A \n",
    "ON T.id_artist = A.id_artist\n",
    "INNER JOIN tracks2genres TG\n",
    "ON TG.id_track = T.id_track \n",
    "INNER JOIN genres G\n",
    "ON G.id_genre = TG.id_genre\n",
    "WHERE T.id_track IN (\n",
    "        SELECT id_track FROM tracks2info TI\n",
    "        WHERE TI.popularity > 75 AND TI.energy > 0.8) AND G.genre = \"metal\"'''"
   ]
  },
  {
   "cell_type": "code",
   "execution_count": 48,
   "metadata": {},
   "outputs": [],
   "source": [
    "cur.execute(req3)\n",
    "result3 = cur.fetchall()"
   ]
  },
  {
   "cell_type": "code",
   "execution_count": 49,
   "metadata": {
    "scrolled": true
   },
   "outputs": [
    {
     "name": "stdout",
     "output_type": "stream",
     "text": [
      "10\n"
     ]
    },
    {
     "data": {
      "text/plain": [
       "[(4, \"It's My Life\", 'Bon Jovi', 'metal'),\n",
       " (21, 'In the End', 'Linkin Park', 'metal'),\n",
       " (78, 'Kryptonite', '3 Doors Down', 'metal'),\n",
       " (216, 'In the End', 'Linkin Park', 'metal'),\n",
       " (319, 'Bring Me To Life', 'Evanescence', 'metal'),\n",
       " (417, 'Numb', 'Linkin Park', 'metal'),\n",
       " (600, 'Best of You', 'Foo Fighters', 'metal'),\n",
       " (731, \"What I've Done\", 'Linkin Park', 'metal'),\n",
       " (774, 'The Pretender', 'Foo Fighters', 'metal'),\n",
       " (848, \"You're Gonna Go Far, Kid\", 'The Offspring', 'metal')]"
      ]
     },
     "execution_count": 49,
     "metadata": {},
     "output_type": "execute_result"
    }
   ],
   "source": [
    "print(len(result3))\n",
    "result3"
   ]
  },
  {
   "cell_type": "markdown",
   "metadata": {},
   "source": [
    "Все получилось, но надо удалить ещё один дубль (не буду выносить в отдельный раздел, здесь ничего нового нет):"
   ]
  },
  {
   "cell_type": "code",
   "execution_count": 50,
   "metadata": {},
   "outputs": [],
   "source": [
    "req_31 = '''DELETE tracks, tracks2genres, tracks2info FROM tracks \n",
    "JOIN tracks2genres ON\n",
    "tracks.id_track = tracks2genres.id_track\n",
    "JOIN tracks2info ON\n",
    "tracks.id_track = tracks2info.id_track\n",
    "WHERE tracks.id_track = 216;'''\n",
    "\n",
    "cur.execute(req_31)\n",
    "con.commit()"
   ]
  },
  {
   "cell_type": "markdown",
   "metadata": {},
   "source": [
    "### 5.3.1. Вложенный SELECT + WHERE 3 таблицы"
   ]
  },
  {
   "cell_type": "code",
   "execution_count": 75,
   "metadata": {},
   "outputs": [],
   "source": [
    "# найдём все latin треки\n",
    "# из них выберем самые длинные\n",
    "# и из них - треки 3х конкретных артистов\n",
    "# и выведем их в формате \"длительность + название + исполнитель\"\n",
    "\n",
    "req32 = '''SELECT TI.duration_ms, T.track_title, A.artist FROM tracks T\n",
    "INNER JOIN artists A \n",
    "ON T.id_artist = A.id_artist\n",
    "INNER JOIN tracks2info TI\n",
    "ON T.id_track = TI.id_track\n",
    "WHERE T.id_track IN (\n",
    "        SELECT id_track FROM tracks2genres TG\n",
    "        INNER JOIN genres G\n",
    "        ON G.id_genre = TG.id_genre\n",
    "        WHERE G.genre = \"latin\") AND  TI.duration_ms > 250000 \n",
    "        AND A.Artist IN (\"Ricky Martin\", \"Nelly Furtado\", \"Anuel AA\")'''"
   ]
  },
  {
   "cell_type": "code",
   "execution_count": 76,
   "metadata": {},
   "outputs": [],
   "source": [
    "cur.execute(req32)\n",
    "result32 = cur.fetchall()"
   ]
  },
  {
   "cell_type": "code",
   "execution_count": 77,
   "metadata": {},
   "outputs": [
    {
     "name": "stdout",
     "output_type": "stream",
     "text": [
      "6\n"
     ]
    },
    {
     "data": {
      "text/plain": [
       "[(280626, 'She Bangs - English Version', 'Ricky Martin'),\n",
       " (252706,\n",
       "  'Nobody Wants to Be Lonely (with Christina Aguilera)',\n",
       "  'Ricky Martin'),\n",
       " (276106, 'Turn Off The Light', 'Nelly Furtado'),\n",
       " (258893, 'Maneater', 'Nelly Furtado'),\n",
       " (301714, 'China', 'Anuel AA'),\n",
       " (258800, 'Secreto', 'Anuel AA')]"
      ]
     },
     "execution_count": 77,
     "metadata": {},
     "output_type": "execute_result"
    }
   ],
   "source": [
    "print(len(result32))\n",
    "result32"
   ]
  },
  {
   "cell_type": "markdown",
   "metadata": {},
   "source": [
    "### 5.4. OUTER JOINS\n",
    "\n",
    "Если я правильно понимаю, они служат для ситуаций, когда в таблицах есть несоответствия..\n",
    "\n",
    "В моей БД такого быть не должно, поэтому сейчас искусственно создадим такую ситуацию:"
   ]
  },
  {
   "cell_type": "code",
   "execution_count": 58,
   "metadata": {},
   "outputs": [],
   "source": [
    "# неопознанный жанр set(): 0\n",
    "req_40 = '''DELETE tracks2info FROM tracks2info \n",
    "JOIN tracks2genres ON\n",
    "tracks2genres.id_track = tracks2info.id_track\n",
    "WHERE tracks2genres.id_genre = 0;'''\n",
    "\n",
    "cur.execute(req_40)\n",
    "con.commit()\n",
    "\n",
    "# теперь в tracks и tracks2genres такие треки есть, \n",
    "# а в tracks2info по ним информации нет\n",
    "# (и жанр такой в genres остался)"
   ]
  },
  {
   "cell_type": "code",
   "execution_count": 63,
   "metadata": {},
   "outputs": [],
   "source": [
    "# RIGHT JOIN\n",
    "\n",
    "req41 = '''SELECT * FROM tracks T\n",
    "RIGHT JOIN tracks2info TI\n",
    "ON TI.id_track = T.id_track\n",
    "RIGHT JOIN tracks2genres TG\n",
    "ON TG.id_track = T.id_track\n",
    "RIGHT JOIN genres G\n",
    "ON TG.id_genre = G.id_genre\n",
    "WHERE G.id_genre = 0'''"
   ]
  },
  {
   "cell_type": "code",
   "execution_count": 64,
   "metadata": {},
   "outputs": [],
   "source": [
    "cur.execute(req41)\n",
    "result41 = cur.fetchall()"
   ]
  },
  {
   "cell_type": "code",
   "execution_count": 65,
   "metadata": {},
   "outputs": [
    {
     "name": "stdout",
     "output_type": "stream",
     "text": [
      "22\n"
     ]
    },
    {
     "data": {
      "text/plain": [
       "[(None,\n",
       "  None,\n",
       "  None,\n",
       "  None,\n",
       "  None,\n",
       "  None,\n",
       "  None,\n",
       "  None,\n",
       "  None,\n",
       "  None,\n",
       "  None,\n",
       "  None,\n",
       "  None,\n",
       "  None,\n",
       "  None,\n",
       "  None,\n",
       "  None,\n",
       "  None,\n",
       "  None,\n",
       "  96,\n",
       "  0,\n",
       "  0,\n",
       "  'set()'),\n",
       " (None,\n",
       "  None,\n",
       "  None,\n",
       "  None,\n",
       "  None,\n",
       "  None,\n",
       "  None,\n",
       "  None,\n",
       "  None,\n",
       "  None,\n",
       "  None,\n",
       "  None,\n",
       "  None,\n",
       "  None,\n",
       "  None,\n",
       "  None,\n",
       "  None,\n",
       "  None,\n",
       "  None,\n",
       "  217,\n",
       "  0,\n",
       "  0,\n",
       "  'set()'),\n",
       " (None,\n",
       "  None,\n",
       "  None,\n",
       "  None,\n",
       "  None,\n",
       "  None,\n",
       "  None,\n",
       "  None,\n",
       "  None,\n",
       "  None,\n",
       "  None,\n",
       "  None,\n",
       "  None,\n",
       "  None,\n",
       "  None,\n",
       "  None,\n",
       "  None,\n",
       "  None,\n",
       "  None,\n",
       "  292,\n",
       "  0,\n",
       "  0,\n",
       "  'set()'),\n",
       " (None,\n",
       "  None,\n",
       "  None,\n",
       "  None,\n",
       "  None,\n",
       "  None,\n",
       "  None,\n",
       "  None,\n",
       "  None,\n",
       "  None,\n",
       "  None,\n",
       "  None,\n",
       "  None,\n",
       "  None,\n",
       "  None,\n",
       "  None,\n",
       "  None,\n",
       "  None,\n",
       "  None,\n",
       "  429,\n",
       "  0,\n",
       "  0,\n",
       "  'set()'),\n",
       " (None,\n",
       "  None,\n",
       "  None,\n",
       "  None,\n",
       "  None,\n",
       "  None,\n",
       "  None,\n",
       "  None,\n",
       "  None,\n",
       "  None,\n",
       "  None,\n",
       "  None,\n",
       "  None,\n",
       "  None,\n",
       "  None,\n",
       "  None,\n",
       "  None,\n",
       "  None,\n",
       "  None,\n",
       "  456,\n",
       "  0,\n",
       "  0,\n",
       "  'set()'),\n",
       " (None,\n",
       "  None,\n",
       "  None,\n",
       "  None,\n",
       "  None,\n",
       "  None,\n",
       "  None,\n",
       "  None,\n",
       "  None,\n",
       "  None,\n",
       "  None,\n",
       "  None,\n",
       "  None,\n",
       "  None,\n",
       "  None,\n",
       "  None,\n",
       "  None,\n",
       "  None,\n",
       "  None,\n",
       "  482,\n",
       "  0,\n",
       "  0,\n",
       "  'set()'),\n",
       " (None,\n",
       "  None,\n",
       "  None,\n",
       "  None,\n",
       "  None,\n",
       "  None,\n",
       "  None,\n",
       "  None,\n",
       "  None,\n",
       "  None,\n",
       "  None,\n",
       "  None,\n",
       "  None,\n",
       "  None,\n",
       "  None,\n",
       "  None,\n",
       "  None,\n",
       "  None,\n",
       "  None,\n",
       "  546,\n",
       "  0,\n",
       "  0,\n",
       "  'set()'),\n",
       " (None,\n",
       "  None,\n",
       "  None,\n",
       "  None,\n",
       "  None,\n",
       "  None,\n",
       "  None,\n",
       "  None,\n",
       "  None,\n",
       "  None,\n",
       "  None,\n",
       "  None,\n",
       "  None,\n",
       "  None,\n",
       "  None,\n",
       "  None,\n",
       "  None,\n",
       "  None,\n",
       "  None,\n",
       "  646,\n",
       "  0,\n",
       "  0,\n",
       "  'set()'),\n",
       " (None,\n",
       "  None,\n",
       "  None,\n",
       "  None,\n",
       "  None,\n",
       "  None,\n",
       "  None,\n",
       "  None,\n",
       "  None,\n",
       "  None,\n",
       "  None,\n",
       "  None,\n",
       "  None,\n",
       "  None,\n",
       "  None,\n",
       "  None,\n",
       "  None,\n",
       "  None,\n",
       "  None,\n",
       "  711,\n",
       "  0,\n",
       "  0,\n",
       "  'set()'),\n",
       " (None,\n",
       "  None,\n",
       "  None,\n",
       "  None,\n",
       "  None,\n",
       "  None,\n",
       "  None,\n",
       "  None,\n",
       "  None,\n",
       "  None,\n",
       "  None,\n",
       "  None,\n",
       "  None,\n",
       "  None,\n",
       "  None,\n",
       "  None,\n",
       "  None,\n",
       "  None,\n",
       "  None,\n",
       "  730,\n",
       "  0,\n",
       "  0,\n",
       "  'set()'),\n",
       " (None,\n",
       "  None,\n",
       "  None,\n",
       "  None,\n",
       "  None,\n",
       "  None,\n",
       "  None,\n",
       "  None,\n",
       "  None,\n",
       "  None,\n",
       "  None,\n",
       "  None,\n",
       "  None,\n",
       "  None,\n",
       "  None,\n",
       "  None,\n",
       "  None,\n",
       "  None,\n",
       "  None,\n",
       "  794,\n",
       "  0,\n",
       "  0,\n",
       "  'set()'),\n",
       " (None,\n",
       "  None,\n",
       "  None,\n",
       "  None,\n",
       "  None,\n",
       "  None,\n",
       "  None,\n",
       "  None,\n",
       "  None,\n",
       "  None,\n",
       "  None,\n",
       "  None,\n",
       "  None,\n",
       "  None,\n",
       "  None,\n",
       "  None,\n",
       "  None,\n",
       "  None,\n",
       "  None,\n",
       "  795,\n",
       "  0,\n",
       "  0,\n",
       "  'set()'),\n",
       " (None,\n",
       "  None,\n",
       "  None,\n",
       "  None,\n",
       "  None,\n",
       "  None,\n",
       "  None,\n",
       "  None,\n",
       "  None,\n",
       "  None,\n",
       "  None,\n",
       "  None,\n",
       "  None,\n",
       "  None,\n",
       "  None,\n",
       "  None,\n",
       "  None,\n",
       "  None,\n",
       "  None,\n",
       "  950,\n",
       "  0,\n",
       "  0,\n",
       "  'set()'),\n",
       " (None,\n",
       "  None,\n",
       "  None,\n",
       "  None,\n",
       "  None,\n",
       "  None,\n",
       "  None,\n",
       "  None,\n",
       "  None,\n",
       "  None,\n",
       "  None,\n",
       "  None,\n",
       "  None,\n",
       "  None,\n",
       "  None,\n",
       "  None,\n",
       "  None,\n",
       "  None,\n",
       "  None,\n",
       "  1058,\n",
       "  0,\n",
       "  0,\n",
       "  'set()'),\n",
       " (None,\n",
       "  None,\n",
       "  None,\n",
       "  None,\n",
       "  None,\n",
       "  None,\n",
       "  None,\n",
       "  None,\n",
       "  None,\n",
       "  None,\n",
       "  None,\n",
       "  None,\n",
       "  None,\n",
       "  None,\n",
       "  None,\n",
       "  None,\n",
       "  None,\n",
       "  None,\n",
       "  None,\n",
       "  1272,\n",
       "  0,\n",
       "  0,\n",
       "  'set()'),\n",
       " (None,\n",
       "  None,\n",
       "  None,\n",
       "  None,\n",
       "  None,\n",
       "  None,\n",
       "  None,\n",
       "  None,\n",
       "  None,\n",
       "  None,\n",
       "  None,\n",
       "  None,\n",
       "  None,\n",
       "  None,\n",
       "  None,\n",
       "  None,\n",
       "  None,\n",
       "  None,\n",
       "  None,\n",
       "  1321,\n",
       "  0,\n",
       "  0,\n",
       "  'set()'),\n",
       " (None,\n",
       "  None,\n",
       "  None,\n",
       "  None,\n",
       "  None,\n",
       "  None,\n",
       "  None,\n",
       "  None,\n",
       "  None,\n",
       "  None,\n",
       "  None,\n",
       "  None,\n",
       "  None,\n",
       "  None,\n",
       "  None,\n",
       "  None,\n",
       "  None,\n",
       "  None,\n",
       "  None,\n",
       "  1407,\n",
       "  0,\n",
       "  0,\n",
       "  'set()'),\n",
       " (None,\n",
       "  None,\n",
       "  None,\n",
       "  None,\n",
       "  None,\n",
       "  None,\n",
       "  None,\n",
       "  None,\n",
       "  None,\n",
       "  None,\n",
       "  None,\n",
       "  None,\n",
       "  None,\n",
       "  None,\n",
       "  None,\n",
       "  None,\n",
       "  None,\n",
       "  None,\n",
       "  None,\n",
       "  1455,\n",
       "  0,\n",
       "  0,\n",
       "  'set()'),\n",
       " (None,\n",
       "  None,\n",
       "  None,\n",
       "  None,\n",
       "  None,\n",
       "  None,\n",
       "  None,\n",
       "  None,\n",
       "  None,\n",
       "  None,\n",
       "  None,\n",
       "  None,\n",
       "  None,\n",
       "  None,\n",
       "  None,\n",
       "  None,\n",
       "  None,\n",
       "  None,\n",
       "  None,\n",
       "  1488,\n",
       "  0,\n",
       "  0,\n",
       "  'set()'),\n",
       " (None,\n",
       "  None,\n",
       "  None,\n",
       "  None,\n",
       "  None,\n",
       "  None,\n",
       "  None,\n",
       "  None,\n",
       "  None,\n",
       "  None,\n",
       "  None,\n",
       "  None,\n",
       "  None,\n",
       "  None,\n",
       "  None,\n",
       "  None,\n",
       "  None,\n",
       "  None,\n",
       "  None,\n",
       "  1774,\n",
       "  0,\n",
       "  0,\n",
       "  'set()'),\n",
       " (None,\n",
       "  None,\n",
       "  None,\n",
       "  None,\n",
       "  None,\n",
       "  None,\n",
       "  None,\n",
       "  None,\n",
       "  None,\n",
       "  None,\n",
       "  None,\n",
       "  None,\n",
       "  None,\n",
       "  None,\n",
       "  None,\n",
       "  None,\n",
       "  None,\n",
       "  None,\n",
       "  None,\n",
       "  1842,\n",
       "  0,\n",
       "  0,\n",
       "  'set()'),\n",
       " (None,\n",
       "  None,\n",
       "  None,\n",
       "  None,\n",
       "  None,\n",
       "  None,\n",
       "  None,\n",
       "  None,\n",
       "  None,\n",
       "  None,\n",
       "  None,\n",
       "  None,\n",
       "  None,\n",
       "  None,\n",
       "  None,\n",
       "  None,\n",
       "  None,\n",
       "  None,\n",
       "  None,\n",
       "  1977,\n",
       "  0,\n",
       "  0,\n",
       "  'set()')]"
      ]
     },
     "execution_count": 65,
     "metadata": {},
     "output_type": "execute_result"
    }
   ],
   "source": [
    "print(len(result41))\n",
    "result41"
   ]
  },
  {
   "cell_type": "markdown",
   "metadata": {},
   "source": [
    "22 - правильное число, именно столько треков с неопознанным жанром set() у нас было. Мы можем видеть, что присоединившиеся колонки из tracks2info все пустые, а дальше идут сложившиеся колонки из tracks2genres (id_track и id_genre) и genres (id_genre и genre)"
   ]
  },
  {
   "cell_type": "code",
   "execution_count": 66,
   "metadata": {},
   "outputs": [],
   "source": [
    "# LEFT JOIN\n",
    "\n",
    "req42 = '''SELECT * FROM tracks T\n",
    "LEFT JOIN tracks2info TI\n",
    "ON TI.id_track = T.id_track\n",
    "LEFT JOIN tracks2genres TG\n",
    "ON TG.id_track = T.id_track\n",
    "LEFT JOIN genres G\n",
    "ON TG.id_genre = G.id_genre\n",
    "WHERE G.id_genre = 0'''"
   ]
  },
  {
   "cell_type": "code",
   "execution_count": 67,
   "metadata": {},
   "outputs": [],
   "source": [
    "cur.execute(req42)\n",
    "result42 = cur.fetchall()"
   ]
  },
  {
   "cell_type": "code",
   "execution_count": 68,
   "metadata": {},
   "outputs": [
    {
     "name": "stdout",
     "output_type": "stream",
     "text": [
      "22\n"
     ]
    },
    {
     "data": {
      "text/plain": [
       "[(96,\n",
       "  'Teenage Dirtbag',\n",
       "  80,\n",
       "  None,\n",
       "  None,\n",
       "  None,\n",
       "  None,\n",
       "  None,\n",
       "  None,\n",
       "  None,\n",
       "  None,\n",
       "  None,\n",
       "  None,\n",
       "  None,\n",
       "  None,\n",
       "  None,\n",
       "  None,\n",
       "  None,\n",
       "  None,\n",
       "  96,\n",
       "  0,\n",
       "  0,\n",
       "  'set()'),\n",
       " (217,\n",
       "  'The Ketchup Song (Aserejé) - Spanglish Version',\n",
       "  154,\n",
       "  None,\n",
       "  None,\n",
       "  None,\n",
       "  None,\n",
       "  None,\n",
       "  None,\n",
       "  None,\n",
       "  None,\n",
       "  None,\n",
       "  None,\n",
       "  None,\n",
       "  None,\n",
       "  None,\n",
       "  None,\n",
       "  None,\n",
       "  None,\n",
       "  217,\n",
       "  0,\n",
       "  0,\n",
       "  'set()'),\n",
       " (292,\n",
       "  'Crossroads - Radio Edit',\n",
       "  188,\n",
       "  None,\n",
       "  None,\n",
       "  None,\n",
       "  None,\n",
       "  None,\n",
       "  None,\n",
       "  None,\n",
       "  None,\n",
       "  None,\n",
       "  None,\n",
       "  None,\n",
       "  None,\n",
       "  None,\n",
       "  None,\n",
       "  None,\n",
       "  None,\n",
       "  292,\n",
       "  0,\n",
       "  0,\n",
       "  'set()'),\n",
       " (429,\n",
       "  'Amazing',\n",
       "  252,\n",
       "  None,\n",
       "  None,\n",
       "  None,\n",
       "  None,\n",
       "  None,\n",
       "  None,\n",
       "  None,\n",
       "  None,\n",
       "  None,\n",
       "  None,\n",
       "  None,\n",
       "  None,\n",
       "  None,\n",
       "  None,\n",
       "  None,\n",
       "  None,\n",
       "  429,\n",
       "  0,\n",
       "  0,\n",
       "  'set()'),\n",
       " (456,\n",
       "  'Cha Cha Slide - Hardino Mix',\n",
       "  261,\n",
       "  None,\n",
       "  None,\n",
       "  None,\n",
       "  None,\n",
       "  None,\n",
       "  None,\n",
       "  None,\n",
       "  None,\n",
       "  None,\n",
       "  None,\n",
       "  None,\n",
       "  None,\n",
       "  None,\n",
       "  None,\n",
       "  None,\n",
       "  None,\n",
       "  456,\n",
       "  0,\n",
       "  0,\n",
       "  'set()'),\n",
       " (482,\n",
       "  \"Fuck It (I Don't Want You Back)\",\n",
       "  274,\n",
       "  None,\n",
       "  None,\n",
       "  None,\n",
       "  None,\n",
       "  None,\n",
       "  None,\n",
       "  None,\n",
       "  None,\n",
       "  None,\n",
       "  None,\n",
       "  None,\n",
       "  None,\n",
       "  None,\n",
       "  None,\n",
       "  None,\n",
       "  None,\n",
       "  482,\n",
       "  0,\n",
       "  0,\n",
       "  'set()'),\n",
       " (546,\n",
       "  'Almost Here',\n",
       "  298,\n",
       "  None,\n",
       "  None,\n",
       "  None,\n",
       "  None,\n",
       "  None,\n",
       "  None,\n",
       "  None,\n",
       "  None,\n",
       "  None,\n",
       "  None,\n",
       "  None,\n",
       "  None,\n",
       "  None,\n",
       "  None,\n",
       "  None,\n",
       "  None,\n",
       "  546,\n",
       "  0,\n",
       "  0,\n",
       "  'set()'),\n",
       " (646,\n",
       "  'Thunder in My Heart Again (Radio Edit)',\n",
       "  334,\n",
       "  None,\n",
       "  None,\n",
       "  None,\n",
       "  None,\n",
       "  None,\n",
       "  None,\n",
       "  None,\n",
       "  None,\n",
       "  None,\n",
       "  None,\n",
       "  None,\n",
       "  None,\n",
       "  None,\n",
       "  None,\n",
       "  None,\n",
       "  None,\n",
       "  646,\n",
       "  0,\n",
       "  0,\n",
       "  'set()'),\n",
       " (711,\n",
       "  'Let Me Think About It',\n",
       "  362,\n",
       "  None,\n",
       "  None,\n",
       "  None,\n",
       "  None,\n",
       "  None,\n",
       "  None,\n",
       "  None,\n",
       "  None,\n",
       "  None,\n",
       "  None,\n",
       "  None,\n",
       "  None,\n",
       "  None,\n",
       "  None,\n",
       "  None,\n",
       "  None,\n",
       "  711,\n",
       "  0,\n",
       "  0,\n",
       "  'set()'),\n",
       " (730,\n",
       "  'The Creeps - Fedde Le Grand Radio Mix',\n",
       "  367,\n",
       "  None,\n",
       "  None,\n",
       "  None,\n",
       "  None,\n",
       "  None,\n",
       "  None,\n",
       "  None,\n",
       "  None,\n",
       "  None,\n",
       "  None,\n",
       "  None,\n",
       "  None,\n",
       "  None,\n",
       "  None,\n",
       "  None,\n",
       "  None,\n",
       "  730,\n",
       "  0,\n",
       "  0,\n",
       "  'set()'),\n",
       " (794,\n",
       "  'Wait for You',\n",
       "  393,\n",
       "  None,\n",
       "  None,\n",
       "  None,\n",
       "  None,\n",
       "  None,\n",
       "  None,\n",
       "  None,\n",
       "  None,\n",
       "  None,\n",
       "  None,\n",
       "  None,\n",
       "  None,\n",
       "  None,\n",
       "  None,\n",
       "  None,\n",
       "  None,\n",
       "  794,\n",
       "  0,\n",
       "  0,\n",
       "  'set()'),\n",
       " (795,\n",
       "  \"Sweetest Girl (Dollar Bill) (feat. Akon, Lil' Wayne & Niia)\",\n",
       "  394,\n",
       "  None,\n",
       "  None,\n",
       "  None,\n",
       "  None,\n",
       "  None,\n",
       "  None,\n",
       "  None,\n",
       "  None,\n",
       "  None,\n",
       "  None,\n",
       "  None,\n",
       "  None,\n",
       "  None,\n",
       "  None,\n",
       "  None,\n",
       "  None,\n",
       "  795,\n",
       "  0,\n",
       "  0,\n",
       "  'set()'),\n",
       " (950,\n",
       "  'Jai Ho! (You Are My Destiny)',\n",
       "  454,\n",
       "  None,\n",
       "  None,\n",
       "  None,\n",
       "  None,\n",
       "  None,\n",
       "  None,\n",
       "  None,\n",
       "  None,\n",
       "  None,\n",
       "  None,\n",
       "  None,\n",
       "  None,\n",
       "  None,\n",
       "  None,\n",
       "  None,\n",
       "  None,\n",
       "  950,\n",
       "  0,\n",
       "  0,\n",
       "  'set()'),\n",
       " (1058,\n",
       "  \"Wavin' Flag\",\n",
       "  489,\n",
       "  None,\n",
       "  None,\n",
       "  None,\n",
       "  None,\n",
       "  None,\n",
       "  None,\n",
       "  None,\n",
       "  None,\n",
       "  None,\n",
       "  None,\n",
       "  None,\n",
       "  None,\n",
       "  None,\n",
       "  None,\n",
       "  None,\n",
       "  None,\n",
       "  1058,\n",
       "  0,\n",
       "  0,\n",
       "  'set()'),\n",
       " (1272,\n",
       "  'Somebody That I Used To Know',\n",
       "  559,\n",
       "  None,\n",
       "  None,\n",
       "  None,\n",
       "  None,\n",
       "  None,\n",
       "  None,\n",
       "  None,\n",
       "  None,\n",
       "  None,\n",
       "  None,\n",
       "  None,\n",
       "  None,\n",
       "  None,\n",
       "  None,\n",
       "  None,\n",
       "  None,\n",
       "  1272,\n",
       "  0,\n",
       "  0,\n",
       "  'set()'),\n",
       " (1321,\n",
       "  'Love Me Again',\n",
       "  578,\n",
       "  None,\n",
       "  None,\n",
       "  None,\n",
       "  None,\n",
       "  None,\n",
       "  None,\n",
       "  None,\n",
       "  None,\n",
       "  None,\n",
       "  None,\n",
       "  None,\n",
       "  None,\n",
       "  None,\n",
       "  None,\n",
       "  None,\n",
       "  None,\n",
       "  1321,\n",
       "  0,\n",
       "  0,\n",
       "  'set()'),\n",
       " (1407,\n",
       "  'Rude',\n",
       "  604,\n",
       "  None,\n",
       "  None,\n",
       "  None,\n",
       "  None,\n",
       "  None,\n",
       "  None,\n",
       "  None,\n",
       "  None,\n",
       "  None,\n",
       "  None,\n",
       "  None,\n",
       "  None,\n",
       "  None,\n",
       "  None,\n",
       "  None,\n",
       "  None,\n",
       "  1407,\n",
       "  0,\n",
       "  0,\n",
       "  'set()'),\n",
       " (1455,\n",
       "  'Stolen Dance',\n",
       "  627,\n",
       "  None,\n",
       "  None,\n",
       "  None,\n",
       "  None,\n",
       "  None,\n",
       "  None,\n",
       "  None,\n",
       "  None,\n",
       "  None,\n",
       "  None,\n",
       "  None,\n",
       "  None,\n",
       "  None,\n",
       "  None,\n",
       "  None,\n",
       "  None,\n",
       "  1455,\n",
       "  0,\n",
       "  0,\n",
       "  'set()'),\n",
       " (1488,\n",
       "  'Somebody',\n",
       "  638,\n",
       "  None,\n",
       "  None,\n",
       "  None,\n",
       "  None,\n",
       "  None,\n",
       "  None,\n",
       "  None,\n",
       "  None,\n",
       "  None,\n",
       "  None,\n",
       "  None,\n",
       "  None,\n",
       "  None,\n",
       "  None,\n",
       "  None,\n",
       "  None,\n",
       "  1488,\n",
       "  0,\n",
       "  0,\n",
       "  'set()'),\n",
       " (1774,\n",
       "  'Juju on That Beat (TZ Anthem)',\n",
       "  747,\n",
       "  None,\n",
       "  None,\n",
       "  None,\n",
       "  None,\n",
       "  None,\n",
       "  None,\n",
       "  None,\n",
       "  None,\n",
       "  None,\n",
       "  None,\n",
       "  None,\n",
       "  None,\n",
       "  None,\n",
       "  None,\n",
       "  None,\n",
       "  None,\n",
       "  1774,\n",
       "  0,\n",
       "  0,\n",
       "  'set()'),\n",
       " (1842,\n",
       "  'German',\n",
       "  765,\n",
       "  None,\n",
       "  None,\n",
       "  None,\n",
       "  None,\n",
       "  None,\n",
       "  None,\n",
       "  None,\n",
       "  None,\n",
       "  None,\n",
       "  None,\n",
       "  None,\n",
       "  None,\n",
       "  None,\n",
       "  None,\n",
       "  None,\n",
       "  None,\n",
       "  1842,\n",
       "  0,\n",
       "  0,\n",
       "  'set()'),\n",
       " (1977,\n",
       "  'On A Roll',\n",
       "  826,\n",
       "  None,\n",
       "  None,\n",
       "  None,\n",
       "  None,\n",
       "  None,\n",
       "  None,\n",
       "  None,\n",
       "  None,\n",
       "  None,\n",
       "  None,\n",
       "  None,\n",
       "  None,\n",
       "  None,\n",
       "  None,\n",
       "  None,\n",
       "  None,\n",
       "  1977,\n",
       "  0,\n",
       "  0,\n",
       "  'set()')]"
      ]
     },
     "execution_count": 68,
     "metadata": {},
     "output_type": "execute_result"
    }
   ],
   "source": [
    "print(len(result42))\n",
    "result42"
   ]
  },
  {
   "cell_type": "markdown",
   "metadata": {},
   "source": [
    "Когда мы меняем RIGHT на LEFT, левая таблица (упомянутая до Join) оказывается в приоритете, и уже к ней прибавляются значения других колонок: в выдаче мы видим, что в начале каждой строки появилась инфа из таблицы tracks.\n",
    "\n",
    "Надо теперь за собой почистить:"
   ]
  },
  {
   "cell_type": "code",
   "execution_count": 69,
   "metadata": {},
   "outputs": [],
   "source": [
    "# неопознанный жанр set(): 0\n",
    "req_43 = '''DELETE tracks, tracks2genres, genres FROM tracks2genres \n",
    "JOIN tracks ON\n",
    "tracks.id_track = tracks2genres.id_track\n",
    "JOIN genres ON\n",
    "genres.id_genre = tracks2genres.id_genre\n",
    "WHERE tracks2genres.id_genre = 0;'''\n",
    "\n",
    "cur.execute(req_43)\n",
    "con.commit()"
   ]
  },
  {
   "cell_type": "markdown",
   "metadata": {},
   "source": [
    "Проверяемся:"
   ]
  },
  {
   "cell_type": "code",
   "execution_count": 72,
   "metadata": {},
   "outputs": [],
   "source": [
    "req_44 = '''SELECT T.id_track, G.genre FROM tracks T\n",
    "INNER JOIN tracks2genres TG \n",
    "ON TG.id_track = T.id_track\n",
    "INNER JOIN genres G \n",
    "ON TG.id_genre = G.id_genre \n",
    "WHERE TG.id_genre = 0'''"
   ]
  },
  {
   "cell_type": "code",
   "execution_count": 73,
   "metadata": {},
   "outputs": [],
   "source": [
    "cur.execute(req_44)\n",
    "result44 = cur.fetchall()"
   ]
  },
  {
   "cell_type": "code",
   "execution_count": 74,
   "metadata": {},
   "outputs": [
    {
     "name": "stdout",
     "output_type": "stream",
     "text": [
      "0\n"
     ]
    },
    {
     "data": {
      "text/plain": [
       "[]"
      ]
     },
     "execution_count": 74,
     "metadata": {},
     "output_type": "execute_result"
    }
   ],
   "source": [
    "print(len(result44))\n",
    "result44"
   ]
  },
  {
   "cell_type": "markdown",
   "metadata": {},
   "source": [
    "Успех!"
   ]
  },
  {
   "cell_type": "markdown",
   "metadata": {},
   "source": [
    "### 5.5. Аггрегация\n",
    "\n",
    "разные вычисления на наборе значений"
   ]
  },
  {
   "cell_type": "code",
   "execution_count": 89,
   "metadata": {},
   "outputs": [],
   "source": [
    "# Максимальная громкость по жанрам\n",
    "\n",
    "req5 = '''SELECT G.genre, MAX(TI.loudness) as max_loudness FROM tracks2info TI\n",
    "INNER JOIN tracks2genres TG \n",
    "ON TG.id_track = TI.id_track\n",
    "INNER JOIN genres G \n",
    "ON TG.id_genre = G.id_genre\n",
    "GROUP BY G.genre\n",
    "ORDER BY max_loudness DESC'''"
   ]
  },
  {
   "cell_type": "code",
   "execution_count": 90,
   "metadata": {},
   "outputs": [],
   "source": [
    "cur.execute(req5)\n",
    "result5 = cur.fetchall()"
   ]
  },
  {
   "cell_type": "code",
   "execution_count": 91,
   "metadata": {},
   "outputs": [
    {
     "data": {
      "text/plain": [
       "[('pop', -0.276),\n",
       " ('Dance/Electronic', -0.276),\n",
       " ('hip hop', -1.19),\n",
       " ('R&B', -1.916),\n",
       " ('rock', -2.042),\n",
       " ('metal', -2.336),\n",
       " ('country', -2.569),\n",
       " ('latin', -2.652),\n",
       " ('Folk/Acoustic', -3.152),\n",
       " ('easy listening', -3.196),\n",
       " ('World/Traditional', -3.974),\n",
       " ('blues', -4.23),\n",
       " ('classical', -5.798),\n",
       " ('jazz', -13.2)]"
      ]
     },
     "execution_count": 91,
     "metadata": {},
     "output_type": "execute_result"
    }
   ],
   "source": [
    "result5"
   ]
  },
  {
   "cell_type": "code",
   "execution_count": 94,
   "metadata": {},
   "outputs": [],
   "source": [
    "# Максимальная средняя продолжительность по жанрам\n",
    "\n",
    "req51 = '''SELECT G.genre, AVG(TI.duration_ms) as avr_duration_ms FROM tracks2info TI\n",
    "INNER JOIN tracks2genres TG \n",
    "ON TG.id_track = TI.id_track\n",
    "INNER JOIN genres G \n",
    "ON TG.id_genre = G.id_genre\n",
    "GROUP BY G.genre\n",
    "ORDER BY avr_duration_ms DESC'''"
   ]
  },
  {
   "cell_type": "code",
   "execution_count": 95,
   "metadata": {},
   "outputs": [],
   "source": [
    "cur.execute(req51)\n",
    "result51 = cur.fetchall()"
   ]
  },
  {
   "cell_type": "code",
   "execution_count": 96,
   "metadata": {},
   "outputs": [
    {
     "data": {
      "text/plain": [
       "[('blues', Decimal('244643.2500')),\n",
       " ('R&B', Decimal('239289.7650')),\n",
       " ('easy listening', Decimal('234931.0000')),\n",
       " ('hip hop', Decimal('234086.4607')),\n",
       " ('metal', Decimal('233847.0154')),\n",
       " ('pop', Decimal('228631.8640')),\n",
       " ('latin', Decimal('227674.8594')),\n",
       " ('rock', Decimal('227672.7124')),\n",
       " ('jazz', Decimal('224813.0000')),\n",
       " ('country', Decimal('222226.0476')),\n",
       " ('Folk/Acoustic', Decimal('220183.6500')),\n",
       " ('classical', Decimal('219560.0000')),\n",
       " ('World/Traditional', Decimal('219063.8000')),\n",
       " ('Dance/Electronic', Decimal('216428.1205'))]"
      ]
     },
     "execution_count": 96,
     "metadata": {},
     "output_type": "execute_result"
    }
   ],
   "source": [
    "result51"
   ]
  },
  {
   "cell_type": "markdown",
   "metadata": {},
   "source": [
    "Удобнее всего группировать по жанрам, поэтому так и делала, но могу и по другим столбцам!"
   ]
  },
  {
   "cell_type": "code",
   "execution_count": 103,
   "metadata": {},
   "outputs": [],
   "source": [
    "# кол-во треков по музыкальным тональностям\n",
    "\n",
    "req52 ='''SELECT TI.music_key, COUNT(TI.music_key) as count_music_key FROM tracks2info TI\n",
    "GROUP BY TI.music_key\n",
    "ORDER BY TI.music_key ASC'''"
   ]
  },
  {
   "cell_type": "code",
   "execution_count": 104,
   "metadata": {},
   "outputs": [],
   "source": [
    "cur.execute(req52)\n",
    "result52 = cur.fetchall()"
   ]
  },
  {
   "cell_type": "code",
   "execution_count": 105,
   "metadata": {},
   "outputs": [
    {
     "data": {
      "text/plain": [
       "[(0, 192),\n",
       " (1, 263),\n",
       " (2, 155),\n",
       " (3, 59),\n",
       " (4, 124),\n",
       " (5, 181),\n",
       " (6, 153),\n",
       " (7, 197),\n",
       " (8, 171),\n",
       " (9, 156),\n",
       " (10, 128),\n",
       " (11, 197)]"
      ]
     },
     "execution_count": 105,
     "metadata": {},
     "output_type": "execute_result"
    }
   ],
   "source": [
    "result52"
   ]
  }
 ],
 "metadata": {
  "colab": {
   "provenance": []
  },
  "kernelspec": {
   "display_name": "Python 3 (ipykernel)",
   "language": "python",
   "name": "python3"
  },
  "language_info": {
   "codemirror_mode": {
    "name": "ipython",
    "version": 3
   },
   "file_extension": ".py",
   "mimetype": "text/x-python",
   "name": "python",
   "nbconvert_exporter": "python",
   "pygments_lexer": "ipython3",
   "version": "3.11.5"
  }
 },
 "nbformat": 4,
 "nbformat_minor": 1
}
